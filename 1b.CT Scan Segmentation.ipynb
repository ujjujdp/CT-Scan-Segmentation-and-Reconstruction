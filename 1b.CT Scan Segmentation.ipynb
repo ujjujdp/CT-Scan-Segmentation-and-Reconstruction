{
 "cells": [
  {
   "cell_type": "code",
   "execution_count": 1,
   "metadata": {
    "id": "iZ_NH60sgl2d"
   },
   "outputs": [],
   "source": [
    "# Importing Necesaary Library\n",
    "import scipy.io\n",
    "import numpy as np\n",
    "from sklearn.cluster import KMeans\n",
    "import matplotlib.pyplot as plt\n",
    "import sys\n",
    "import timeit\n",
    "from sklearn.metrics import confusion_matrix\n",
    "import math"
   ]
  },
  {
   "cell_type": "markdown",
   "metadata": {
    "id": "3EkT6Xm6rDlO"
   },
   "source": [
    "Loading CT Scans"
   ]
  },
  {
   "cell_type": "code",
   "execution_count": 2,
   "metadata": {
    "colab": {
     "base_uri": "https://localhost:8080/"
    },
    "id": "2IQxLAx-g0C7",
    "outputId": "1c1cd6c6-31e4-4479-d906-8c80010d08cf"
   },
   "outputs": [
    {
     "name": "stdout",
     "output_type": "stream",
     "text": [
      "(3554, 512, 512)\n"
     ]
    }
   ],
   "source": [
    "data = scipy.io.loadmat(\"/home/ujjawal/CourseWork/AIMIA/Assignment/Ass1/ctscan_hw1.mat\")\n",
    "temp_ct_scans = data['ctscan']\n",
    "ct_scans = []\n",
    "for i in range(temp_ct_scans.shape[2]):\n",
    "  ct_scans.append(temp_ct_scans[:,:,i])\n",
    "ct_scans = np.array(ct_scans)\n",
    "print(ct_scans.shape)"
   ]
  },
  {
   "cell_type": "markdown",
   "metadata": {
    "id": "Hf5agxO6rHPa"
   },
   "source": [
    "Loading Infection Masks"
   ]
  },
  {
   "cell_type": "code",
   "execution_count": 3,
   "metadata": {
    "colab": {
     "base_uri": "https://localhost:8080/"
    },
    "id": "c9XvAOQjiAaA",
    "outputId": "5a83ed89-787f-403a-8e7c-9598903efc75"
   },
   "outputs": [
    {
     "name": "stdout",
     "output_type": "stream",
     "text": [
      "(3554, 512, 512)\n"
     ]
    }
   ],
   "source": [
    "data = scipy.io.loadmat(\"/home/ujjawal/CourseWork/AIMIA/Assignment/Ass1/infmsk_hw1.mat\")\n",
    "infmask = data['infmsk']\n",
    "infection_masks = []\n",
    "for i in range(infmask.shape[2]):\n",
    "  infection_masks.append(infmask[:,:,i])\n",
    "infection_masks = np.array(infection_masks)\n",
    "print(infection_masks.shape)\n",
    "\n",
    "N = ct_scans.shape[0]"
   ]
  },
  {
   "cell_type": "markdown",
   "metadata": {
    "id": "S-tBkCCW4cHN"
   },
   "source": [
    "Manual Centroid Initialization; DOESN'T WORK"
   ]
  },
  {
   "cell_type": "code",
   "execution_count": 4,
   "metadata": {
    "id": "9dzIIObS4Y2c"
   },
   "outputs": [],
   "source": [
    "# def find_centroids(temp_ct_scan, temp_inf_mask):\n",
    "#   b = None\n",
    "#   i = None\n",
    "#   h = None\n",
    "#   for i in range(512):\n",
    "#     for j in range(512):\n",
    "#       # if(not (b == None or i == None or h == None) ):\n",
    "#       #   break\n",
    "#       if(temp_inf_mask[i][j] == 0):\n",
    "#         b = temp_ct_scan[i][j]\n",
    "#       if(temp_inf_mask[i][j] == 1):\n",
    "#         i = temp_ct_scan[i][j]\n",
    "#       else:\n",
    "#         h = temp_ct_scan[i][j]\n",
    "#   return np.array([b,h,i]).reshape(3,1)"
   ]
  },
  {
   "cell_type": "markdown",
   "metadata": {
    "id": "di8XF7ew-tZL"
   },
   "source": [
    "Functions to correct predicted mask, i.e., correct background, infection and healthy region as expected"
   ]
  },
  {
   "cell_type": "code",
   "execution_count": 5,
   "metadata": {
    "id": "wpxQpbjg4zjV"
   },
   "outputs": [],
   "source": [
    "def find_counts(mask):\n",
    "  count_background = np.count_nonzero(mask == 0)\n",
    "  count_infection = np.count_nonzero(mask == 1)\n",
    "  count_healthy = np.count_nonzero(mask == 2)\n",
    "  return np.array([count_background, count_infection, count_healthy])\n",
    "\n",
    "def check_pred_mask(pred_mask):\n",
    "  pred_count_list = find_counts(pred_mask)\n",
    "  original_count_list = np.array([100,10,50])\n",
    "  mapping = dict({})\n",
    "\n",
    "  for i in range(3):\n",
    "    pred_max_idx = np.argmax(pred_count_list)\n",
    "    original_max_idx = np.argmax(original_count_list)\n",
    "    mapping[pred_max_idx] = original_max_idx\n",
    "    pred_count_list[pred_max_idx] = -1\n",
    "    original_count_list[original_max_idx] = -1\n",
    "\n",
    "  corrected_mask = np.empty(shape=(512,512), dtype=int)\n",
    "  for i in range(512):\n",
    "    for j in range(512):\n",
    "      corrected_mask[i][j] = mapping[pred_mask[i][j]]\n",
    "\n",
    "  return corrected_mask"
   ]
  },
  {
   "cell_type": "markdown",
   "metadata": {
    "id": "_S5t_dz9CPXp"
   },
   "source": [
    "Using k-means for Image Segmentation"
   ]
  },
  {
   "cell_type": "code",
   "execution_count": 6,
   "metadata": {
    "colab": {
     "base_uri": "https://localhost:8080/"
    },
    "id": "u0w0mJlg1skY",
    "outputId": "5dbf323e-c072-474e-bb4e-1f29de333a9a"
   },
   "outputs": [],
   "source": [
    "def get_predicted_mask(ct_scans):\n",
    "  start = timeit.default_timer()\n",
    "\n",
    "  pred_masks = []\n",
    "  for i in range(500):\n",
    "    sys.stdout.write('\\r'+\"Processing Image \"+str(i))\n",
    "    sample = ct_scans[i]\n",
    "    kmeans_obj = KMeans(n_clusters=3, random_state=0)\n",
    "    ct_scan_flattened = sample.flatten().reshape((512*512,1))\n",
    "    clusters = kmeans_obj.fit_predict(ct_scan_flattened)\n",
    "    curr_pred_mask = clusters.reshape((512,512))\n",
    "    curr_pred_mask = check_pred_mask(curr_pred_mask)\n",
    "    pred_masks.append(curr_pred_mask)\n",
    "\n",
    "  pred_masks = np.array(pred_masks)\n",
    "  print('\\n', pred_masks.shape)\n",
    "\n",
    "  stop = timeit.default_timer()\n",
    "  print('Time Taken = ', stop - start) \n",
    "  \n",
    "  return pred_masks"
   ]
  },
  {
   "cell_type": "code",
   "execution_count": 7,
   "metadata": {},
   "outputs": [
    {
     "name": "stdout",
     "output_type": "stream",
     "text": [
      "Processing Image 499\n",
      " (500, 512, 512)\n",
      "Time Taken =  229.43128429399803\n"
     ]
    }
   ],
   "source": [
    "pred_masks = get_predicted_mask(ct_scans)"
   ]
  },
  {
   "cell_type": "markdown",
   "metadata": {
    "id": "bgb8vIANCXAR"
   },
   "source": [
    "Checking the Predicted Mask with the expert annotations"
   ]
  },
  {
   "cell_type": "code",
   "execution_count": 8,
   "metadata": {
    "colab": {
     "base_uri": "https://localhost:8080/",
     "height": 1000
    },
    "id": "w4_1kXme7lnz",
    "outputId": "fbec15d4-2d5f-469d-bda3-0e430774bb3d"
   },
   "outputs": [],
   "source": [
    "# for i in range(n_subset):\n",
    "#   f, axarr = plt.subplots(1,3)\n",
    "#   axarr[0].set_title(\"Expert Annotations\")\n",
    "#   axarr[0].imshow(infection_masks[i])\n",
    "#   axarr[1].set_title(\"Predicted Masks\")\n",
    "#   axarr[1].imshow(pred_masks[i])\n",
    "#   axarr[2].set_title(\"CT Scans\")\n",
    "#   axarr[2].imshow(ct_scans[i])\n",
    "#   plt.show()"
   ]
  },
  {
   "cell_type": "markdown",
   "metadata": {
    "id": "z11YgmtKCclr"
   },
   "source": [
    "Two Samples with Expert Annotations(left), Predicted Mask(middle) and CT Scans(right)"
   ]
  },
  {
   "cell_type": "code",
   "execution_count": 9,
   "metadata": {
    "colab": {
     "base_uri": "https://localhost:8080/",
     "height": 307
    },
    "id": "fkwRis4fC6SC",
    "outputId": "32be8c81-af26-4299-96e4-3bde0926e85d",
    "scrolled": true
   },
   "outputs": [
    {
     "data": {
      "image/png": "[encoded data removed]",
      "text/plain": [
       "<Figure size 432x288 with 3 Axes>"
      ]
     },
     "metadata": {
      "needs_background": "light"
     },
     "output_type": "display_data"
    },
    {
     "data": {
      "image/png": "[encoded data removed]",
      "text/plain": [
       "<Figure size 432x288 with 3 Axes>"
      ]
     },
     "metadata": {
      "needs_background": "light"
     },
     "output_type": "display_data"
    }
   ],
   "source": [
    "i = 150\n",
    "f, axarr = plt.subplots(1,3)\n",
    "axarr[0].set_title(\"Expert Annotations\")\n",
    "axarr[0].imshow(infection_masks[i])\n",
    "axarr[1].set_title(\"Predicted Masks\")\n",
    "axarr[1].imshow(pred_masks[i])\n",
    "axarr[2].set_title(\"CT Scans\")\n",
    "axarr[2].imshow(ct_scans[i])\n",
    "f.tight_layout()\n",
    "plt.show()\n",
    "\n",
    "i = 69\n",
    "f, axarr = plt.subplots(1,3)\n",
    "axarr[0].set_title(\"Expert Annotations\")\n",
    "axarr[0].imshow(infection_masks[i])\n",
    "axarr[1].set_title(\"Predicted Masks\")\n",
    "axarr[1].imshow(pred_masks[i])\n",
    "axarr[2].set_title(\"CT Scans\")\n",
    "axarr[2].imshow(ct_scans[i])\n",
    "f.tight_layout()\n",
    "plt.show()"
   ]
  },
  {
   "cell_type": "code",
   "execution_count": 11,
   "metadata": {
    "colab": {
     "base_uri": "https://localhost:8080/"
    },
    "id": "Zog4ATvhFIBy",
    "outputId": "8685675d-7dc9-4c0c-c5a9-d22fa8a0be99"
   },
   "outputs": [
    {
     "name": "stdout",
     "output_type": "stream",
     "text": [
      "Average Pixel Accuracy =  0.983642677307129\n"
     ]
    }
   ],
   "source": [
    "# Pixel Accuracy(Not Required), Not DICE_SCORE\n",
    "pixel_accuracy = []\n",
    "for i in range(len(pred_masks)):\n",
    "  pred_mask = pred_masks[i]\n",
    "  original_mask = infection_masks[i]\n",
    "  pixel_accuracy.append((pred_mask == original_mask).sum()/ (512*512))\n",
    "\n",
    "pixel_accuracy = np.array(pixel_accuracy)\n",
    "print(\"Average Pixel Accuracy = \", np.mean(pixel_accuracy))"
   ]
  },
  {
   "cell_type": "markdown",
   "metadata": {
    "id": "kOPi5GpG9P-S"
   },
   "source": [
    "Evaluating the model performance using several evaluation metrics"
   ]
  },
  {
   "cell_type": "code",
   "execution_count": null,
   "metadata": {},
   "outputs": [],
   "source": [
    "def get_confusion_metric(true_y, pred_y):\n",
    "  true_y = true_y.flatten()\n",
    "  pred_y = pred_y.flatten()\n",
    "  return confusion_matrix(true_y, pred_y,labels=[0,1,2])\n",
    "  \n",
    "def get_req_avg_eval_metrics(infection_masks, pred_masks, N):\n",
    "\n",
    "  # Dice Score is same as F1-Score, NO!\n",
    "  N = n_subset\n",
    "  avg_infection_sensitivity = 0\n",
    "  avg_infection_specificity = 0\n",
    "  avg_infection_accuracy = 0\n",
    "  avg_infection_dice_score = 0\n",
    "  \n",
    "  avg_healthy_sensitivity = 0\n",
    "  avg_healthy_specificity = 0\n",
    "  avg_healthy_accuracy = 0\n",
    "  avg_healthy_dice_score = 0\n",
    "\n",
    "  count_infection_sensitivity = 0               # nan error\n",
    "\n",
    "  for i in range(N):\n",
    "    \n",
    "    curr_confusion_metric = (get_confusion_metric(infection_masks[i],pred_masks[i])).T\n",
    "\n",
    "    infection_TP = curr_confusion_metric[1][1]\n",
    "    infection_TN = curr_confusion_metric[0][0] + curr_confusion_metric[2][0] + curr_confusion_metric[0][2] + curr_confusion_metric[2][2]\n",
    "    infection_FP = curr_confusion_metric[1][0] + curr_confusion_metric[1][2] \n",
    "    infection_FN = curr_confusion_metric[0][1] + curr_confusion_metric[2][1]\n",
    "\n",
    "    healthy_TP = curr_confusion_metric[2][2]\n",
    "    healthy_TN = curr_confusion_metric[0][0] + curr_confusion_metric[0][1] + curr_confusion_metric[1][0] + curr_confusion_metric[1][1]\n",
    "    healthy_FP = curr_confusion_metric[2][0] + curr_confusion_metric[2][1] \n",
    "    healthy_FN = curr_confusion_metric[0][2] + curr_confusion_metric[1][2]\n",
    "\n",
    "    # Sensitivity = Recall = TP/(TP+FN)\n",
    "    # Preicision = TP/(TP+FP)\n",
    "    # Specificity = TN/(TN+FP)\n",
    "    # Dice Score = 2.TP / (2.TP + FP + FN)\n",
    "\n",
    "    infection_sensitivity = 0\n",
    "    if((infection_TP+infection_FN)!=0):\n",
    "      count_infection_sensitivity += 1\n",
    "      infection_sensitivity = (infection_TP)/(infection_TP+infection_FN)\n",
    "        \n",
    "    infection_specificity = (infection_TN)/(infection_TN+infection_FP)\n",
    "    infection_accuracy = (infection_TP+infection_TN)/(infection_TP+infection_TN+infection_FP+infection_FN)\n",
    "    infection_dice_score = (2*infection_TP)/(2*infection_TP + infection_FP + infection_FN)\n",
    "\n",
    "    healthy_sensitivity = (healthy_TP)/(healthy_TP+healthy_FN)\n",
    "    healthy_specificity = (healthy_TN)/(healthy_TN+healthy_FP)\n",
    "    healthy_accuracy = (healthy_TP+healthy_TN)/(healthy_TP+healthy_TN+healthy_FP+healthy_FN)\n",
    "    healthy_dice_score = (2*healthy_TP)/(2*healthy_TP + healthy_FP + healthy_FN)\n",
    "\n",
    "    avg_infection_sensitivity += infection_sensitivity\n",
    "    avg_infection_specificity += infection_specificity\n",
    "    avg_infection_accuracy += infection_accuracy\n",
    "    avg_infection_dice_score += infection_dice_score\n",
    "\n",
    "    avg_healthy_sensitivity += healthy_sensitivity\n",
    "    avg_healthy_specificity += healthy_specificity\n",
    "    avg_healthy_accuracy += healthy_accuracy\n",
    "    avg_healthy_dice_score += healthy_dice_score\n",
    "\n",
    "  avg_infection_sensitivity = avg_infection_sensitivity/count_infection_sensitivity\n",
    "  avg_infection_specificity = avg_infection_specificity/N\n",
    "  avg_infection_accuracy = avg_infection_accuracy/N\n",
    "  avg_infection_dice_score = avg_infection_dice_score/N\n",
    "\n",
    "  avg_healthy_sensitivity = avg_healthy_sensitivity/N\n",
    "  avg_healthy_specificity = avg_healthy_specificity/N\n",
    "  avg_healthy_accuracy = avg_healthy_accuracy/N\n",
    "  avg_healthy_dice_score = avg_healthy_dice_score/N\n",
    "\n",
    "  return avg_infection_dice_score, avg_infection_sensitivity, avg_infection_specificity, avg_infection_accuracy, avg_healthy_dice_score, avg_healthy_sensitivity, avg_healthy_specificity, avg_healthy_accuracy"
   ]
  },
  {
   "cell_type": "code",
   "execution_count": null,
   "metadata": {},
   "outputs": [],
   "source": [
    "inf_ds, inf_sen, inf_spec, inf_acc, hea_ds, hea_sen, hea_spec, hea_acc = get_req_avg_eval_metrics(infection_masks, pred_masks, N)\n",
    "print(\"Average Dice Score for Infection: \", inf_ds)\n",
    "print(\"Average Sensitivity for Infection: \", inf_sen)\n",
    "print(\"Average Specificity for Infection: \", inf_spec)\n",
    "print(\"Average Accuracy for Infection: \", inf_acc)\n",
    "print()\n",
    "print(\"Average Dice Score for Healthy: \", hea_ds)\n",
    "print(\"Average Sensitivity for Healthy: \", hea_sen)\n",
    "print(\"Average Specificity for Healthy: \", hea_spec)\n",
    "print(\"Average Accuracy for Healthy: \", hea_acc)"
   ]
  },
  {
   "cell_type": "code",
   "execution_count": null,
   "metadata": {},
   "outputs": [],
   "source": []
  }
 ],
 "metadata": {
  "colab": {
   "collapsed_sections": [],
   "provenance": []
  },
  "kernelspec": {
   "display_name": "Python 3 (ipykernel)",
   "language": "python",
   "name": "python3"
  },
  "language_info": {
   "codemirror_mode": {
    "name": "ipython",
    "version": 3
   },
   "file_extension": ".py",
   "mimetype": "text/x-python",
   "name": "python",
   "nbconvert_exporter": "python",
   "pygments_lexer": "ipython3",
   "version": "3.9.12"
  }
 },
 "nbformat": 4,
 "nbformat_minor": 1
}
