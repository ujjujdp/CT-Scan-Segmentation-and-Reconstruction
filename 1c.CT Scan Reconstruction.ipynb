{
 "cells": [
  {
   "cell_type": "code",
   "execution_count": 1,
   "metadata": {
    "id": "iZ_NH60sgl2d"
   },
   "outputs": [],
   "source": [
    "# Importing Necesaary Library\n",
    "import scipy.io\n",
    "import math\n",
    "import numpy as np\n",
    "import sys\n",
    "import timeit\n",
    "\n",
    "import matplotlib.pyplot as plt\n",
    "from sklearn.cluster import KMeans\n",
    "from sklearn.metrics import confusion_matrix\n",
    "\n",
    "from skimage.transform import rotate\n",
    "import scipy.fftpack as fft\n",
    "from skimage.transform import rotate\n",
    "\n",
    "from skimage.metrics import peak_signal_noise_ratio as psnr\n",
    "from skimage.metrics import structural_similarity as ssim"
   ]
  },
  {
   "cell_type": "markdown",
   "metadata": {
    "id": "3EkT6Xm6rDlO"
   },
   "source": [
    "Loading CT Scans"
   ]
  },
  {
   "cell_type": "code",
   "execution_count": 2,
   "metadata": {
    "colab": {
     "base_uri": "https://localhost:8080/"
    },
    "id": "2IQxLAx-g0C7",
    "outputId": "1c1cd6c6-31e4-4479-d906-8c80010d08cf"
   },
   "outputs": [
    {
     "name": "stdout",
     "output_type": "stream",
     "text": [
      "(3554, 512, 512)\n"
     ]
    }
   ],
   "source": [
    "data = scipy.io.loadmat(\"./ctscan_hw1.mat\")\n",
    "temp_ct_scans = data['ctscan']\n",
    "ct_scans = []\n",
    "for i in range(temp_ct_scans.shape[2]):\n",
    "  ct_scans.append(temp_ct_scans[:,:,i])\n",
    "ct_scans = np.array(ct_scans)\n",
    "print(ct_scans.shape)"
   ]
  },
  {
   "cell_type": "markdown",
   "metadata": {
    "id": "Hf5agxO6rHPa"
   },
   "source": [
    "Loading Infection Masks"
   ]
  },
  {
   "cell_type": "code",
   "execution_count": 3,
   "metadata": {
    "colab": {
     "base_uri": "https://localhost:8080/"
    },
    "id": "c9XvAOQjiAaA",
    "outputId": "5a83ed89-787f-403a-8e7c-9598903efc75"
   },
   "outputs": [
    {
     "name": "stdout",
     "output_type": "stream",
     "text": [
      "(3554, 512, 512)\n"
     ]
    }
   ],
   "source": [
    "data = scipy.io.loadmat(\"./infmsk_hw1.mat\")\n",
    "infmask = data['infmsk']\n",
    "infection_masks = []\n",
    "for i in range(infmask.shape[2]):\n",
    "  infection_masks.append(infmask[:,:,i])\n",
    "infection_masks = np.array(infection_masks)\n",
    "print(infection_masks.shape)\n",
    "\n",
    "N = ct_scans.shape[0]"
   ]
  },
  {
   "cell_type": "markdown",
   "metadata": {},
   "source": [
    "# Part B, Functions"
   ]
  },
  {
   "cell_type": "markdown",
   "metadata": {
    "id": "di8XF7ew-tZL"
   },
   "source": [
    "Functions to correct predicted mask, i.e., correct background, infection and healthy region as expected"
   ]
  },
  {
   "cell_type": "code",
   "execution_count": 4,
   "metadata": {
    "id": "wpxQpbjg4zjV"
   },
   "outputs": [],
   "source": [
    "def find_counts(mask):\n",
    "  count_background = np.count_nonzero(mask == 0)\n",
    "  count_infection = np.count_nonzero(mask == 1)\n",
    "  count_healthy = np.count_nonzero(mask == 2)\n",
    "  return np.array([count_background, count_infection, count_healthy])\n",
    "\n",
    "def check_pred_mask(pred_mask):\n",
    "  pred_count_list = find_counts(pred_mask)\n",
    "  original_count_list = np.array([100,10,50])\n",
    "  mapping = dict({})\n",
    "\n",
    "  for i in range(3):\n",
    "    pred_max_idx = np.argmax(pred_count_list)\n",
    "    original_max_idx = np.argmax(original_count_list)\n",
    "    mapping[pred_max_idx] = original_max_idx\n",
    "    pred_count_list[pred_max_idx] = -1\n",
    "    original_count_list[original_max_idx] = -1\n",
    "\n",
    "  corrected_mask = np.empty(shape=(512,512), dtype=int)\n",
    "  for i in range(512):\n",
    "    for j in range(512):\n",
    "      corrected_mask[i][j] = mapping[pred_mask[i][j]]\n",
    "\n",
    "  return corrected_mask"
   ]
  },
  {
   "cell_type": "markdown",
   "metadata": {
    "id": "_S5t_dz9CPXp"
   },
   "source": [
    "Using k-means for Image Segmentation"
   ]
  },
  {
   "cell_type": "code",
   "execution_count": 5,
   "metadata": {
    "colab": {
     "base_uri": "https://localhost:8080/"
    },
    "id": "u0w0mJlg1skY",
    "outputId": "5dbf323e-c072-474e-bb4e-1f29de333a9a"
   },
   "outputs": [],
   "source": [
    "def get_predicted_mask(ct_scans):\n",
    "  start = timeit.default_timer()\n",
    "\n",
    "  n_subset = 100\n",
    "  pred_masks = []\n",
    "  N = n_subset\n",
    "  for i in range(N):\n",
    "    sys.stdout.write('\\r'+\"Processing Image \"+str(i))\n",
    "    sample = ct_scans[i]\n",
    "    kmeans_obj = KMeans(n_clusters=3, random_state=0)\n",
    "    ct_scan_flattened = sample.flatten().reshape((512*512,1))\n",
    "    clusters = kmeans_obj.fit_predict(ct_scan_flattened)\n",
    "    curr_pred_mask = clusters.reshape((512,512))\n",
    "    curr_pred_mask = check_pred_mask(curr_pred_mask)\n",
    "    pred_masks.append(curr_pred_mask)\n",
    "\n",
    "  pred_masks = np.array(pred_masks)\n",
    "  print('\\n', pred_masks.shape)\n",
    "\n",
    "  stop = timeit.default_timer()\n",
    "  print('Time Taken = ', stop - start) \n",
    "  \n",
    "  return pred_masks"
   ]
  },
  {
   "cell_type": "markdown",
   "metadata": {
    "id": "kOPi5GpG9P-S"
   },
   "source": [
    "Evaluating the model performance using several evaluation metrics"
   ]
  },
  {
   "cell_type": "code",
   "execution_count": 6,
   "metadata": {},
   "outputs": [],
   "source": [
    "def get_confusion_metric(true_y, pred_y):\n",
    "  true_y = true_y.flatten()\n",
    "  pred_y = pred_y.flatten()\n",
    "  return confusion_matrix(true_y, pred_y,labels=[0,1,2])\n",
    "  \n",
    "def get_req_avg_eval_metrics(infection_masks, pred_masks, N):\n",
    "\n",
    "  # Dice Score is same as F1-Score, NO!\n",
    "   \n",
    "  avg_infection_sensitivity = 0\n",
    "  avg_infection_specificity = 0\n",
    "  avg_infection_accuracy = 0\n",
    "  avg_infection_dice_score = 0\n",
    "  \n",
    "  avg_healthy_sensitivity = 0\n",
    "  avg_healthy_specificity = 0\n",
    "  avg_healthy_accuracy = 0\n",
    "  avg_healthy_dice_score = 0\n",
    "\n",
    "  count_infection_sensitivity = 0               # nan error\n",
    "\n",
    "  for i in range(N):\n",
    "    \n",
    "    curr_confusion_metric = (get_confusion_metric(infection_masks[i],pred_masks[i])).T\n",
    "    \n",
    "    infection_TP = curr_confusion_metric[1][1]\n",
    "    infection_TN = curr_confusion_metric[0][0] + curr_confusion_metric[2][0] + curr_confusion_metric[0][2] + curr_confusion_metric[2][2]\n",
    "    infection_FP = curr_confusion_metric[1][0] + curr_confusion_metric[1][2] \n",
    "    infection_FN = curr_confusion_metric[0][1] + curr_confusion_metric[2][1]\n",
    "\n",
    "    healthy_TP = curr_confusion_metric[2][2]\n",
    "    healthy_TN = curr_confusion_metric[0][0] + curr_confusion_metric[0][1] + curr_confusion_metric[1][0] + curr_confusion_metric[1][1]\n",
    "    healthy_FP = curr_confusion_metric[2][0] + curr_confusion_metric[2][1] \n",
    "    healthy_FN = curr_confusion_metric[0][2] + curr_confusion_metric[1][2]\n",
    "\n",
    "    # Sensitivity = Recall = TP/(TP+FN)\n",
    "    # Preicision = TP/(TP+FP)\n",
    "    # Specificity = TN/(TN+FP)\n",
    "    # Dice Score = 2.TP / (2.TP + FP + FN)\n",
    "\n",
    "    infection_sensitivity = 0\n",
    "    if((infection_TP+infection_FN)!=0):\n",
    "      count_infection_sensitivity += 1\n",
    "      infection_sensitivity = (infection_TP)/(infection_TP+infection_FN)\n",
    "        \n",
    "    infection_specificity = (infection_TN)/(infection_TN+infection_FP)\n",
    "    infection_accuracy = (infection_TP+infection_TN)/(infection_TP+infection_TN+infection_FP+infection_FN)\n",
    "    infection_dice_score = (2*infection_TP)/(2*infection_TP + infection_FP + infection_FN)\n",
    "\n",
    "    healthy_sensitivity = (healthy_TP)/(healthy_TP+healthy_FN)\n",
    "    healthy_specificity = (healthy_TN)/(healthy_TN+healthy_FP)\n",
    "    healthy_accuracy = (healthy_TP+healthy_TN)/(healthy_TP+healthy_TN+healthy_FP+healthy_FN)\n",
    "    healthy_dice_score = (2*healthy_TP)/(2*healthy_TP + healthy_FP + healthy_FN)\n",
    "\n",
    "    avg_infection_sensitivity += infection_sensitivity\n",
    "    avg_infection_specificity += infection_specificity\n",
    "    avg_infection_accuracy += infection_accuracy\n",
    "    avg_infection_dice_score += infection_dice_score\n",
    "\n",
    "    avg_healthy_sensitivity += healthy_sensitivity\n",
    "    avg_healthy_specificity += healthy_specificity\n",
    "    avg_healthy_accuracy += healthy_accuracy\n",
    "    avg_healthy_dice_score += healthy_dice_score\n",
    "\n",
    "  avg_infection_sensitivity = avg_infection_sensitivity/count_infection_sensitivity\n",
    "  avg_infection_specificity = avg_infection_specificity/N\n",
    "  avg_infection_accuracy = avg_infection_accuracy/N\n",
    "  avg_infection_dice_score = avg_infection_dice_score/N\n",
    "\n",
    "  avg_healthy_sensitivity = avg_healthy_sensitivity/N\n",
    "  avg_healthy_specificity = avg_healthy_specificity/N\n",
    "  avg_healthy_accuracy = avg_healthy_accuracy/N\n",
    "  avg_healthy_dice_score = avg_healthy_dice_score/N\n",
    "\n",
    "  return avg_infection_dice_score, avg_infection_sensitivity, avg_infection_specificity, avg_infection_accuracy, avg_healthy_dice_score, avg_healthy_sensitivity, avg_healthy_specificity, avg_healthy_accuracy"
   ]
  },
  {
   "cell_type": "code",
   "execution_count": 7,
   "metadata": {},
   "outputs": [],
   "source": [
    "def find_eval_metrics(infection_masks, pred_masks, N):\n",
    "  inf_ds, inf_sen, inf_spec, inf_acc, hea_ds, hea_sen, hea_spec, hea_acc = get_req_avg_eval_metrics(infection_masks, pred_masks, N)\n",
    "  print(\"Average Dice Score for Infection: \", inf_ds)\n",
    "  print(\"Average Sensitivity for Infection: \", inf_sen)\n",
    "  print(\"Average Specificity for Infection: \", inf_spec)\n",
    "  print(\"Average Accuracy for Infection: \", inf_acc)\n",
    "  print()\n",
    "  print(\"Average Dice Score for Healthy: \", hea_ds)\n",
    "  print(\"Average Sensitivity for Healthy: \", hea_sen)\n",
    "  print(\"Average Specificity for Healthy: \", hea_spec)\n",
    "  print(\"Average Accuracy for Healthy: \", hea_acc)"
   ]
  },
  {
   "cell_type": "markdown",
   "metadata": {},
   "source": [
    "# Part C, Reconstruction"
   ]
  },
  {
   "cell_type": "markdown",
   "metadata": {},
   "source": [
    "Functions for obtaining reconstructed images"
   ]
  },
  {
   "cell_type": "code",
   "execution_count": 8,
   "metadata": {},
   "outputs": [],
   "source": [
    "# CT Scan Image -> Sinogram\n",
    "def radon_transform(ct_scan, rotation = 4): # rots is 4X or 8X\n",
    "    projections = []\n",
    "    d_theta = -rots\n",
    "    for i in range(180//rots):\n",
    "        projections.append(rotate(ct_scan,i*d_theta).sum(axis=0))\n",
    "    return np.vstack(projections)\n",
    "\n",
    "def fft_translate(projections):\n",
    "    return fft.rfft(projections, axis=1)\n",
    "\n",
    "def ramp_filter(ffts):\n",
    "    ramp = np.floor(np.arange(0.5, ffts.shape[1]//2 + 0.1, 0.5))\n",
    "    return ffts * ramp\n",
    "\n",
    "def inverse_fft_translate(sinogram):\n",
    "    return fft.irfft(sinogram, axis=1)\n",
    "\n",
    "def inverse_radon_transform(sinogram): \n",
    "  intermediate_sinogram = fft_translate(sinogram)   \n",
    "  intermediate_sinogram = ramp_filter(intermediate_sinogram)\n",
    "  intermediate_sinogram = inverse_fft_translate(intermediate_sinogram)\n",
    "  laminogram = np.zeros((intermediate_sinogram.shape[1],intermediate_sinogram.shape[1]))\n",
    "  d_theta = 180.0 / intermediate_sinogram.shape[0]\n",
    "\n",
    "  for i in range(intermediate_sinogram.shape[0]):\n",
    "    temp = np.tile(intermediate_sinogram[i],(intermediate_sinogram.shape[1],1))\n",
    "    temp = rotate(temp, d_theta*i)\n",
    "    laminogram += temp\n",
    "  return laminogram"
   ]
  },
  {
   "cell_type": "code",
   "execution_count": 9,
   "metadata": {},
   "outputs": [],
   "source": [
    "class reconstruction_sinogram:\n",
    "  def __init__(self, ct_scans):\n",
    "    self.ct_scans = ct_scans\n",
    "    self.sinograms = []\n",
    "    self.reconstructed_ct_scans = []\n",
    "    \n",
    "  def get_sinogram(self, ct_scan, angle):\n",
    "    return radon_transform(ct_scan, rotation = angle)\n",
    "\n",
    "  def ct_scans_to_sinograms(self, angle):\n",
    "    N = len(self.ct_scans)\n",
    "    for i in range(N):\n",
    "      sys.stdout.write('\\r'+\"CT Scans -> Sinogram; Image No. \"+str(i))\n",
    "      self.sinograms.append(self.get_sinogram(self.ct_scans[i], angle))\n",
    "    \n",
    "  def get_reconstructed_ct_scan(self, sinogram):\n",
    "    return inverse_radon_transform(sinogram)\n",
    "\n",
    "  def sinogram_to_ct_scans(self):\n",
    "    N = len(self.ct_scans)\n",
    "    for i in range(N):\n",
    "      sys.stdout.write('\\r'+\"Sinogram -> CT Scans; Image No. \"+str(i))\n",
    "      self.reconstructed_ct_scans.append(self.get_reconstructed_ct_scan(self.sinograms[i]))"
   ]
  },
  {
   "cell_type": "markdown",
   "metadata": {},
   "source": [
    "# 4x Limited Angle Sinogram"
   ]
  },
  {
   "cell_type": "code",
   "execution_count": null,
   "metadata": {},
   "outputs": [
    {
     "name": "stdout",
     "output_type": "stream",
     "text": [
      "CT Scans -> Sinogram; Image No. 1957"
     ]
    }
   ],
   "source": [
    "reconstruct_4x = reconstruction_sinogram(ct_scans)\n",
    "reconstruct_4x.ct_scans_to_sinograms(angle = 4)\n",
    "reconstruct_4x.sinogram_to_ct_scans()"
   ]
  },
  {
   "cell_type": "markdown",
   "metadata": {},
   "source": [
    "Finding PSNR and SSIM"
   ]
  },
  {
   "cell_type": "code",
   "execution_count": null,
   "metadata": {},
   "outputs": [],
   "source": [
    "N = len(ct_scans)\n",
    "avg_psnr_4x = 0\n",
    "avg_ssim_4x = 0\n",
    "for i in range(N):\n",
    "  sys.stdout.write('\\r'+\"Image No. \"+str(i))\n",
    "  avg_psnr_4x += psnr(ct_scans[i],reconstruct_4x.reconstructed_ct_scans[i])\n",
    "  avg_ssim_4x += ssim(ct_scans[i],reconstruct_4x.reconstructed_ct_scans[i])\n",
    "    \n",
    "avg_psnr_4x = avg_psnr_4x/N\n",
    "avg_ssim_4x = avg_ssim_4x/N\n",
    "\n",
    "print(\"Average Peak Signal to Noise Ratio for 4x Reconstruction: \", avg_psnr_4x)\n",
    "print(\"Average Structute Similarity Index Measure for 4x Reconstruction: \", avg_ssim_4x)"
   ]
  },
  {
   "cell_type": "markdown",
   "metadata": {},
   "source": [
    "8x Limited Angle Sinogram"
   ]
  },
  {
   "cell_type": "code",
   "execution_count": null,
   "metadata": {},
   "outputs": [],
   "source": [
    "reconstruct_8x = reconstruction_sinogram(ct_scans)\n",
    "reconstruct_8x.ct_scans_to_sinograms(angle = 8)\n",
    "reconstruct_8x.sinogram_to_ct_scans()"
   ]
  },
  {
   "cell_type": "markdown",
   "metadata": {},
   "source": [
    "Finding PSNR and SSIM"
   ]
  },
  {
   "cell_type": "code",
   "execution_count": null,
   "metadata": {},
   "outputs": [],
   "source": [
    "N = len(len(ct_scans))\n",
    "avg_psnr_8x = 0\n",
    "avg_ssim_8x = 0\n",
    "for i in range(N):\n",
    "  sys.stdout.write('\\r'+\"Image No. \"+str(i))\n",
    "  avg_psnr_8x += psnr(ct_scans[i],reconstruct_8x.reconstructed_ct_scans[i])\n",
    "  avg_ssim_8x += ssim(ct_scans[i],reconstruct_8x.reconstructed_ct_scans[i])\n",
    "    \n",
    "avg_psnr_8x = avg_psnr_8x/N\n",
    "avg_ssim_8x = avg_ssim_8x/N\n",
    "\n",
    "print(\"Average Peak Signal to Noise Ratio for 8x Reconstruction: \", avg_psnr_8x)\n",
    "print(\"Average Structute Similarity Index Measure for 8x Reconstruction: \", avg_ssim_8x)"
   ]
  },
  {
   "cell_type": "markdown",
   "metadata": {},
   "source": [
    "Evaluating Segmentation on 4x and 8x Reconstruction"
   ]
  },
  {
   "cell_type": "code",
   "execution_count": null,
   "metadata": {},
   "outputs": [],
   "source": [
    "pred_masks_4x = get_predicted_mask(reconstruct_4x.reconstructed_ct_scans)\n",
    "print(\"Evaluation Metrics for 4x Reconstruction\")\n",
    "find_eval_metrics(infection_masks, pred_masks_4x, N)\n",
    "\n",
    "print()\n",
    "print()\n",
    "print()\n",
    "\n",
    "pred_masks_8x = get_predicted_mask(reconstruct_8x.reconstructed_ct_scans)\n",
    "print(\"Evaluation Metrics for 8x Reconstruction\")\n",
    "find_eval_metrics(infection_masks, pred_masks_4x, N)"
   ]
  }
 ],
 "metadata": {
  "colab": {
   "collapsed_sections": [],
   "provenance": []
  },
  "kernelspec": {
   "display_name": "Python 3 (ipykernel)",
   "language": "python",
   "name": "python3"
  },
  "language_info": {
   "codemirror_mode": {
    "name": "ipython",
    "version": 3
   },
   "file_extension": ".py",
   "mimetype": "text/x-python",
   "name": "python",
   "nbconvert_exporter": "python",
   "pygments_lexer": "ipython3",
   "version": "3.9.12"
  }
 },
 "nbformat": 4,
 "nbformat_minor": 1
}
