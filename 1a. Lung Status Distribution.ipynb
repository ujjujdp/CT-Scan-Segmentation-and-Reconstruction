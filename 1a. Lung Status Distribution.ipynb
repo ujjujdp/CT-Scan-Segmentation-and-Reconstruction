{
 "cells": [
  {
   "cell_type": "code",
   "execution_count": 18,
   "metadata": {
    "id": "iZ_NH60sgl2d"
   },
   "outputs": [],
   "source": [
    "# Importing Necesaary Library\n",
    "import scipy.io\n",
    "import numpy as np\n",
    "import matplotlib.pyplot as plt"
   ]
  },
  {
   "cell_type": "code",
   "execution_count": 19,
   "metadata": {
    "colab": {
     "base_uri": "https://localhost:8080/"
    },
    "id": "giadTrG6ikr5",
    "outputId": "3a2703f9-d570-40e6-9c2e-1a7d19e4845e"
   },
   "outputs": [
    {
     "name": "stdout",
     "output_type": "stream",
     "text": [
      "(3554, 512, 512)\n"
     ]
    }
   ],
   "source": [
    "# Loading Data\n",
    "data = scipy.io.loadmat(\"./infmsk_hw1.mat\")\n",
    "infmask = data['infmsk']\n",
    "infection_masks = []\n",
    "for i in range(infmask.shape[2]):\n",
    "  infection_masks.append(infmask[:,:,i])\n",
    "infection_masks = np.array(infection_masks)\n",
    "print(infection_masks.shape)\n",
    "# print(infection_masks[2])\n",
    "N = infection_masks.shape[0]"
   ]
  },
  {
   "cell_type": "code",
   "execution_count": 20,
   "metadata": {},
   "outputs": [],
   "source": [
    "class categorize:\n",
    "    def __init__(self, infection_masks):\n",
    "      self.count_background = []\n",
    "      self.count_infection = []\n",
    "      self.count_healthy = []\n",
    "      self.infection_rate = []\n",
    "      self.distribution = {'Normal':0, 'Mild':0, 'Severe':0}\n",
    "      self.infection_masks = infection_masks\n",
    "        \n",
    "    def calc_counts(self):\n",
    "      for sample in self.infection_masks:\n",
    "        self.count_background.append(np.count_nonzero(sample == 0))\n",
    "        self.count_infection.append(np.count_nonzero(sample == 1))\n",
    "        self.count_healthy.append(np.count_nonzero(sample == 2))\n",
    "    \n",
    "    def calc_infection_rate(self):\n",
    "      N = len(self.count_infection)\n",
    "      for i in range(N):\n",
    "        x = (self.count_infection[i]/(self.count_infection[i]+self.count_healthy[i])) * 100\n",
    "        self.infection_rate.append(x)\n",
    "      self.infection_rate = np.array(self.infection_rate)\n",
    "        \n",
    "    def calc_dist(self):\n",
    "      self.distribution['Normal'] = np.count_nonzero(self.infection_rate == 0)\n",
    "      self.distribution['Severe'] = np.count_nonzero(self.infection_rate > 40)\n",
    "      self.distribution['Mild'] = N - self.distribution['Severe'] - self.distribution['Normal']\n",
    "    \n",
    "    def print_samples(self):\n",
    "      N = len(self.count_infection)\n",
    "    \n",
    "      for i in range(N):\n",
    "        x = self.infection_rate[i]\n",
    "        if(x == 0):\n",
    "          sample_healthy = i\n",
    "        if(x > 0 and x <= 40):\n",
    "          sample_mild = i\n",
    "        if(x > 40):\n",
    "          sample_severe = i\n",
    "    \n",
    "      print(\"Healthy\")\n",
    "      print(\"Infection Rate = \", \"{:.2f}\".format(infection_rate[sample_healthy]), \"%\")\n",
    "      print(\"Infection Mask:\")\n",
    "      plt.imshow(infection_masks[sample_healthy])\n",
    "      plt.show()\n",
    "      print()\n",
    "\n",
    "      print(\"Mild\")\n",
    "      print(\"Infection Rate = \", \"{:.2f}\".format(infection_rate[sample_mild]), \"%\")\n",
    "      print(\"Infection Mask:\")\n",
    "      plt.imshow(infection_masks[sample_mild])\n",
    "      plt.show()\n",
    "      print()\n",
    "\n",
    "      print(\"Severe\")\n",
    "      print(\"Infection Rate = \", \"{:.2f}\".format(infection_rate[sample_severe]), \"%\")\n",
    "      print(\"Infection Mask:\")\n",
    "      plt.imshow(infection_masks[sample_severe])\n",
    "      plt.show()"
   ]
  },
  {
   "cell_type": "code",
   "execution_count": 21,
   "metadata": {},
   "outputs": [],
   "source": [
    "obj = categorize(infection_masks)\n",
    "obj.calc_counts()\n",
    "obj.calc_infection_rate()\n",
    "obj.calc_dist()"
   ]
  },
  {
   "cell_type": "markdown",
   "metadata": {},
   "source": [
    "Print the obtained distribution"
   ]
  },
  {
   "cell_type": "code",
   "execution_count": 22,
   "metadata": {},
   "outputs": [
    {
     "name": "stdout",
     "output_type": "stream",
     "text": [
      "Class Distribution:\n",
      "{'Normal': 1441, 'Mild': 1954, 'Severe': 159}\n"
     ]
    },
    {
     "data": {
      "image/png": "[encoded data removed]",
      "text/plain": [
       "<Figure size 432x288 with 1 Axes>"
      ]
     },
     "metadata": {
      "needs_background": "light"
     },
     "output_type": "display_data"
    }
   ],
   "source": [
    "distribution = obj.distribution\n",
    "print(\"Class Distribution:\")\n",
    "print(distribution)\n",
    "\n",
    "names = list(distribution.keys())\n",
    "values = list(distribution.values())\n",
    "plt.bar(range(len(distribution)), values, tick_label=names)\n",
    "plt.show()"
   ]
  },
  {
   "cell_type": "markdown",
   "metadata": {},
   "source": [
    "Print one sample from each class"
   ]
  },
  {
   "cell_type": "code",
   "execution_count": 23,
   "metadata": {},
   "outputs": [
    {
     "name": "stdout",
     "output_type": "stream",
     "text": [
      "Healthy\n",
      "Infection Rate =  0.00 %\n",
      "Infection Mask:\n"
     ]
    },
    {
     "data": {
      "image/png": "[encoded data removed]",
      "text/plain": [
       "<Figure size 432x288 with 1 Axes>"
      ]
     },
     "metadata": {
      "needs_background": "light"
     },
     "output_type": "display_data"
    },
    {
     "name": "stdout",
     "output_type": "stream",
     "text": [
      "\n",
      "Mild\n",
      "Infection Rate =  37.34 %\n",
      "Infection Mask:\n"
     ]
    },
    {
     "data": {
      "image/png": "[encoded data removed]",
      "text/plain": [
       "<Figure size 432x288 with 1 Axes>"
      ]
     },
     "metadata": {
      "needs_background": "light"
     },
     "output_type": "display_data"
    },
    {
     "name": "stdout",
     "output_type": "stream",
     "text": [
      "\n",
      "Severe\n",
      "Infection Rate =  40.45 %\n",
      "Infection Mask:\n"
     ]
    },
    {
     "data": {
      "image/png": "[encoded data removed]",
      "text/plain": [
       "<Figure size 432x288 with 1 Axes>"
      ]
     },
     "metadata": {
      "needs_background": "light"
     },
     "output_type": "display_data"
    }
   ],
   "source": [
    "obj.print_samples()"
   ]
  },
  {
   "cell_type": "markdown",
   "metadata": {
    "id": "eJJVDPmADsDb"
   },
   "source": [
    "**COMPLETED**"
   ]
  }
 ],
 "metadata": {
  "colab": {
   "collapsed_sections": [],
   "provenance": []
  },
  "kernelspec": {
   "display_name": "Python 3 (ipykernel)",
   "language": "python",
   "name": "python3"
  },
  "language_info": {
   "codemirror_mode": {
    "name": "ipython",
    "version": 3
   },
   "file_extension": ".py",
   "mimetype": "text/x-python",
   "name": "python",
   "nbconvert_exporter": "python",
   "pygments_lexer": "ipython3",
   "version": "3.9.12"
  }
 },
 "nbformat": 4,
 "nbformat_minor": 1
}
